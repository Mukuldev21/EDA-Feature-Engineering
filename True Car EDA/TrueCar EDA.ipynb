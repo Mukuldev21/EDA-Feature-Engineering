{
 "cells": [
  {
   "cell_type": "markdown",
   "id": "a5141d6c",
   "metadata": {},
   "source": [
    "## True Car -  Exploratory Data Analysis"
   ]
  },
  {
   "cell_type": "markdown",
   "id": "8867f277",
   "metadata": {},
   "source": [
    "### Technocolabs Internship Project April 2022"
   ]
  },
  {
   "cell_type": "markdown",
   "id": "abf36f78",
   "metadata": {},
   "source": [
    "**Task Details : To Perform EDA(Exploratory Data Analysis)**"
   ]
  },
  {
   "cell_type": "markdown",
   "id": "52928de3",
   "metadata": {},
   "source": [
    "**By Mukul Dev Mahato**\n",
    "\n",
    "***"
   ]
  },
  {
   "cell_type": "markdown",
   "id": "c61443b5",
   "metadata": {},
   "source": [
    "### Step 1 : Reading and Understanding the Data.\n",
    "\n",
    "1. Importing necessary libraries.\n",
    "2. Importing the dataset.\n",
    "3. Understanding the structure of the data."
   ]
  },
  {
   "cell_type": "code",
   "execution_count": 87,
   "id": "a8af3fd7",
   "metadata": {},
   "outputs": [],
   "source": [
    "import pandas as pd\n",
    "import numpy as np\n",
    "import seaborn as sns\n",
    "import matplotlib.pyplot as plt\n",
    "%matplotlib inline\n",
    "\n",
    "import warnings\n",
    "warnings.filterwarnings('ignore')"
   ]
  },
  {
   "cell_type": "code",
   "execution_count": 45,
   "id": "f74631fe",
   "metadata": {},
   "outputs": [],
   "source": [
    "df1 = pd.read_csv(\"tc20171021.csv\", error_bad_lines=False, warn_bad_lines=False)\n",
    "df2 = pd.read_csv(\"true_car_listings.csv\")"
   ]
  },
  {
   "cell_type": "code",
   "execution_count": 46,
   "id": "8a9b2ec9",
   "metadata": {},
   "outputs": [
    {
     "data": {
      "text/html": [
       "<div>\n",
       "<style scoped>\n",
       "    .dataframe tbody tr th:only-of-type {\n",
       "        vertical-align: middle;\n",
       "    }\n",
       "\n",
       "    .dataframe tbody tr th {\n",
       "        vertical-align: top;\n",
       "    }\n",
       "\n",
       "    .dataframe thead th {\n",
       "        text-align: right;\n",
       "    }\n",
       "</style>\n",
       "<table border=\"1\" class=\"dataframe\">\n",
       "  <thead>\n",
       "    <tr style=\"text-align: right;\">\n",
       "      <th></th>\n",
       "      <th>Id</th>\n",
       "      <th>Price</th>\n",
       "      <th>Year</th>\n",
       "      <th>Mileage</th>\n",
       "      <th>City</th>\n",
       "      <th>State</th>\n",
       "      <th>Vin</th>\n",
       "      <th>Make</th>\n",
       "      <th>Model</th>\n",
       "    </tr>\n",
       "  </thead>\n",
       "  <tbody>\n",
       "    <tr>\n",
       "      <th>1216245</th>\n",
       "      <td>1233038</td>\n",
       "      <td>79900</td>\n",
       "      <td>2017</td>\n",
       "      <td>25</td>\n",
       "      <td>East Hanover</td>\n",
       "      <td>NJ</td>\n",
       "      <td>YV4BC0ZX0H1128239</td>\n",
       "      <td>Volvo</td>\n",
       "      <td>XC90T8</td>\n",
       "    </tr>\n",
       "    <tr>\n",
       "      <th>1216246</th>\n",
       "      <td>1233039</td>\n",
       "      <td>80895</td>\n",
       "      <td>2017</td>\n",
       "      <td>10</td>\n",
       "      <td>Corte Madera</td>\n",
       "      <td>CA</td>\n",
       "      <td>YV4BC0ZX0H1124188</td>\n",
       "      <td>Volvo</td>\n",
       "      <td>XC90T8</td>\n",
       "    </tr>\n",
       "    <tr>\n",
       "      <th>1216247</th>\n",
       "      <td>1233040</td>\n",
       "      <td>68755</td>\n",
       "      <td>2018</td>\n",
       "      <td>2500</td>\n",
       "      <td>Englewood</td>\n",
       "      <td>NJ</td>\n",
       "      <td>YV4A22PL4J1212676</td>\n",
       "      <td>Volvo</td>\n",
       "      <td>XC90T6</td>\n",
       "    </tr>\n",
       "    <tr>\n",
       "      <th>1216248</th>\n",
       "      <td>1233041</td>\n",
       "      <td>72260</td>\n",
       "      <td>2017</td>\n",
       "      <td>3201</td>\n",
       "      <td>Englewood</td>\n",
       "      <td>NJ</td>\n",
       "      <td>YV4A22PL3H1186162</td>\n",
       "      <td>Volvo</td>\n",
       "      <td>XC90T6</td>\n",
       "    </tr>\n",
       "    <tr>\n",
       "      <th>1216249</th>\n",
       "      <td>1233042</td>\n",
       "      <td>60240</td>\n",
       "      <td>2017</td>\n",
       "      <td>8342</td>\n",
       "      <td>San Leandro</td>\n",
       "      <td>CA</td>\n",
       "      <td>YV4A22NLXH1006162</td>\n",
       "      <td>Volvo</td>\n",
       "      <td>V90</td>\n",
       "    </tr>\n",
       "  </tbody>\n",
       "</table>\n",
       "</div>"
      ],
      "text/plain": [
       "              Id  Price  Year  Mileage          City State                Vin  \\\n",
       "1216245  1233038  79900  2017       25  East Hanover    NJ  YV4BC0ZX0H1128239   \n",
       "1216246  1233039  80895  2017       10  Corte Madera    CA  YV4BC0ZX0H1124188   \n",
       "1216247  1233040  68755  2018     2500     Englewood    NJ  YV4A22PL4J1212676   \n",
       "1216248  1233041  72260  2017     3201     Englewood    NJ  YV4A22PL3H1186162   \n",
       "1216249  1233042  60240  2017     8342   San Leandro    CA  YV4A22NLXH1006162   \n",
       "\n",
       "          Make   Model  \n",
       "1216245  Volvo  XC90T8  \n",
       "1216246  Volvo  XC90T8  \n",
       "1216247  Volvo  XC90T6  \n",
       "1216248  Volvo  XC90T6  \n",
       "1216249  Volvo     V90  "
      ]
     },
     "execution_count": 46,
     "metadata": {},
     "output_type": "execute_result"
    }
   ],
   "source": [
    "df1.tail()"
   ]
  },
  {
   "cell_type": "code",
   "execution_count": 47,
   "id": "dc0b9316",
   "metadata": {},
   "outputs": [
    {
     "data": {
      "text/html": [
       "<div>\n",
       "<style scoped>\n",
       "    .dataframe tbody tr th:only-of-type {\n",
       "        vertical-align: middle;\n",
       "    }\n",
       "\n",
       "    .dataframe tbody tr th {\n",
       "        vertical-align: top;\n",
       "    }\n",
       "\n",
       "    .dataframe thead th {\n",
       "        text-align: right;\n",
       "    }\n",
       "</style>\n",
       "<table border=\"1\" class=\"dataframe\">\n",
       "  <thead>\n",
       "    <tr style=\"text-align: right;\">\n",
       "      <th></th>\n",
       "      <th>Price</th>\n",
       "      <th>Year</th>\n",
       "      <th>Mileage</th>\n",
       "      <th>City</th>\n",
       "      <th>State</th>\n",
       "      <th>Vin</th>\n",
       "      <th>Make</th>\n",
       "      <th>Model</th>\n",
       "    </tr>\n",
       "  </thead>\n",
       "  <tbody>\n",
       "    <tr>\n",
       "      <th>0</th>\n",
       "      <td>8995</td>\n",
       "      <td>2014</td>\n",
       "      <td>35725</td>\n",
       "      <td>El Paso</td>\n",
       "      <td>TX</td>\n",
       "      <td>19VDE2E53EE000083</td>\n",
       "      <td>Acura</td>\n",
       "      <td>ILX6-Speed</td>\n",
       "    </tr>\n",
       "    <tr>\n",
       "      <th>1</th>\n",
       "      <td>10888</td>\n",
       "      <td>2013</td>\n",
       "      <td>19606</td>\n",
       "      <td>Long Island City</td>\n",
       "      <td>NY</td>\n",
       "      <td>19VDE1F52DE012636</td>\n",
       "      <td>Acura</td>\n",
       "      <td>ILX5-Speed</td>\n",
       "    </tr>\n",
       "    <tr>\n",
       "      <th>2</th>\n",
       "      <td>8995</td>\n",
       "      <td>2013</td>\n",
       "      <td>48851</td>\n",
       "      <td>El Paso</td>\n",
       "      <td>TX</td>\n",
       "      <td>19VDE2E52DE000025</td>\n",
       "      <td>Acura</td>\n",
       "      <td>ILX6-Speed</td>\n",
       "    </tr>\n",
       "    <tr>\n",
       "      <th>3</th>\n",
       "      <td>10999</td>\n",
       "      <td>2014</td>\n",
       "      <td>39922</td>\n",
       "      <td>Windsor</td>\n",
       "      <td>CO</td>\n",
       "      <td>19VDE1F71EE003817</td>\n",
       "      <td>Acura</td>\n",
       "      <td>ILX5-Speed</td>\n",
       "    </tr>\n",
       "    <tr>\n",
       "      <th>4</th>\n",
       "      <td>14799</td>\n",
       "      <td>2016</td>\n",
       "      <td>22142</td>\n",
       "      <td>Lindon</td>\n",
       "      <td>UT</td>\n",
       "      <td>19UDE2F32GA001284</td>\n",
       "      <td>Acura</td>\n",
       "      <td>ILXAutomatic</td>\n",
       "    </tr>\n",
       "    <tr>\n",
       "      <th>...</th>\n",
       "      <td>...</td>\n",
       "      <td>...</td>\n",
       "      <td>...</td>\n",
       "      <td>...</td>\n",
       "      <td>...</td>\n",
       "      <td>...</td>\n",
       "      <td>...</td>\n",
       "      <td>...</td>\n",
       "    </tr>\n",
       "    <tr>\n",
       "      <th>852117</th>\n",
       "      <td>63215</td>\n",
       "      <td>2017</td>\n",
       "      <td>9</td>\n",
       "      <td>Culver City</td>\n",
       "      <td>CA</td>\n",
       "      <td>YV1A22MK9H1013237</td>\n",
       "      <td>Volvo</td>\n",
       "      <td>S90T6</td>\n",
       "    </tr>\n",
       "    <tr>\n",
       "      <th>852118</th>\n",
       "      <td>72260</td>\n",
       "      <td>2017</td>\n",
       "      <td>3201</td>\n",
       "      <td>Englewood</td>\n",
       "      <td>NJ</td>\n",
       "      <td>YV4A22PL3H1186162</td>\n",
       "      <td>Volvo</td>\n",
       "      <td>XC90T6</td>\n",
       "    </tr>\n",
       "    <tr>\n",
       "      <th>852119</th>\n",
       "      <td>55999</td>\n",
       "      <td>2016</td>\n",
       "      <td>28941</td>\n",
       "      <td>Fort Collins</td>\n",
       "      <td>CO</td>\n",
       "      <td>YV4A22PL4G1000868</td>\n",
       "      <td>Volvo</td>\n",
       "      <td>XC90AWD</td>\n",
       "    </tr>\n",
       "    <tr>\n",
       "      <th>852120</th>\n",
       "      <td>60240</td>\n",
       "      <td>2017</td>\n",
       "      <td>3005</td>\n",
       "      <td>San Leandro</td>\n",
       "      <td>CA</td>\n",
       "      <td>YV4A22NLXH1006162</td>\n",
       "      <td>Volvo</td>\n",
       "      <td>V90</td>\n",
       "    </tr>\n",
       "    <tr>\n",
       "      <th>852121</th>\n",
       "      <td>76995</td>\n",
       "      <td>2017</td>\n",
       "      <td>2502</td>\n",
       "      <td>New York</td>\n",
       "      <td>NY</td>\n",
       "      <td>YV4BC0ZX1H1109845</td>\n",
       "      <td>Volvo</td>\n",
       "      <td>XC90T8</td>\n",
       "    </tr>\n",
       "  </tbody>\n",
       "</table>\n",
       "<p>852122 rows × 8 columns</p>\n",
       "</div>"
      ],
      "text/plain": [
       "        Price  Year  Mileage              City State                Vin  \\\n",
       "0        8995  2014    35725           El Paso    TX  19VDE2E53EE000083   \n",
       "1       10888  2013    19606  Long Island City    NY  19VDE1F52DE012636   \n",
       "2        8995  2013    48851           El Paso    TX  19VDE2E52DE000025   \n",
       "3       10999  2014    39922           Windsor    CO  19VDE1F71EE003817   \n",
       "4       14799  2016    22142            Lindon    UT  19UDE2F32GA001284   \n",
       "...       ...   ...      ...               ...   ...                ...   \n",
       "852117  63215  2017        9       Culver City    CA  YV1A22MK9H1013237   \n",
       "852118  72260  2017     3201         Englewood    NJ  YV4A22PL3H1186162   \n",
       "852119  55999  2016    28941      Fort Collins    CO  YV4A22PL4G1000868   \n",
       "852120  60240  2017     3005       San Leandro    CA  YV4A22NLXH1006162   \n",
       "852121  76995  2017     2502          New York    NY  YV4BC0ZX1H1109845   \n",
       "\n",
       "         Make         Model  \n",
       "0       Acura    ILX6-Speed  \n",
       "1       Acura    ILX5-Speed  \n",
       "2       Acura    ILX6-Speed  \n",
       "3       Acura    ILX5-Speed  \n",
       "4       Acura  ILXAutomatic  \n",
       "...       ...           ...  \n",
       "852117  Volvo         S90T6  \n",
       "852118  Volvo        XC90T6  \n",
       "852119  Volvo       XC90AWD  \n",
       "852120  Volvo           V90  \n",
       "852121  Volvo        XC90T8  \n",
       "\n",
       "[852122 rows x 8 columns]"
      ]
     },
     "execution_count": 47,
     "metadata": {},
     "output_type": "execute_result"
    }
   ],
   "source": [
    "df2"
   ]
  },
  {
   "cell_type": "code",
   "execution_count": 108,
   "id": "f2acf2e7",
   "metadata": {},
   "outputs": [],
   "source": [
    "#concatenating df1 and df2\n",
    "df = pd.concat([df1, df2]).reset_index()"
   ]
  },
  {
   "cell_type": "code",
   "execution_count": 110,
   "id": "b285d580",
   "metadata": {},
   "outputs": [],
   "source": [
    "df.drop(['index', 'Id'], axis = 1, inplace =True)"
   ]
  },
  {
   "cell_type": "code",
   "execution_count": 111,
   "id": "54e1084f",
   "metadata": {},
   "outputs": [
    {
     "data": {
      "text/html": [
       "<div>\n",
       "<style scoped>\n",
       "    .dataframe tbody tr th:only-of-type {\n",
       "        vertical-align: middle;\n",
       "    }\n",
       "\n",
       "    .dataframe tbody tr th {\n",
       "        vertical-align: top;\n",
       "    }\n",
       "\n",
       "    .dataframe thead th {\n",
       "        text-align: right;\n",
       "    }\n",
       "</style>\n",
       "<table border=\"1\" class=\"dataframe\">\n",
       "  <thead>\n",
       "    <tr style=\"text-align: right;\">\n",
       "      <th></th>\n",
       "      <th>Price</th>\n",
       "      <th>Year</th>\n",
       "      <th>Mileage</th>\n",
       "      <th>City</th>\n",
       "      <th>State</th>\n",
       "      <th>Vin</th>\n",
       "      <th>Make</th>\n",
       "      <th>Model</th>\n",
       "    </tr>\n",
       "  </thead>\n",
       "  <tbody>\n",
       "    <tr>\n",
       "      <th>0</th>\n",
       "      <td>16472</td>\n",
       "      <td>2015</td>\n",
       "      <td>18681</td>\n",
       "      <td>Jefferson City</td>\n",
       "      <td>MO</td>\n",
       "      <td>KL4CJBSBXFB267643</td>\n",
       "      <td>Buick</td>\n",
       "      <td>EncoreConvenience</td>\n",
       "    </tr>\n",
       "    <tr>\n",
       "      <th>1</th>\n",
       "      <td>15749</td>\n",
       "      <td>2015</td>\n",
       "      <td>27592</td>\n",
       "      <td>Highland</td>\n",
       "      <td>IN</td>\n",
       "      <td>KL4CJASB5FB245057</td>\n",
       "      <td>Buick</td>\n",
       "      <td>EncoreFWD</td>\n",
       "    </tr>\n",
       "    <tr>\n",
       "      <th>2</th>\n",
       "      <td>16998</td>\n",
       "      <td>2015</td>\n",
       "      <td>13650</td>\n",
       "      <td>Boone</td>\n",
       "      <td>NC</td>\n",
       "      <td>KL4CJCSB0FB264921</td>\n",
       "      <td>Buick</td>\n",
       "      <td>EncoreLeather</td>\n",
       "    </tr>\n",
       "    <tr>\n",
       "      <th>3</th>\n",
       "      <td>15777</td>\n",
       "      <td>2015</td>\n",
       "      <td>25195</td>\n",
       "      <td>New Orleans</td>\n",
       "      <td>LA</td>\n",
       "      <td>KL4CJASB4FB217542</td>\n",
       "      <td>Buick</td>\n",
       "      <td>EncoreFWD</td>\n",
       "    </tr>\n",
       "    <tr>\n",
       "      <th>4</th>\n",
       "      <td>16784</td>\n",
       "      <td>2015</td>\n",
       "      <td>22800</td>\n",
       "      <td>Las Vegas</td>\n",
       "      <td>NV</td>\n",
       "      <td>KL4CJBSB3FB166881</td>\n",
       "      <td>Buick</td>\n",
       "      <td>EncoreConvenience</td>\n",
       "    </tr>\n",
       "    <tr>\n",
       "      <th>...</th>\n",
       "      <td>...</td>\n",
       "      <td>...</td>\n",
       "      <td>...</td>\n",
       "      <td>...</td>\n",
       "      <td>...</td>\n",
       "      <td>...</td>\n",
       "      <td>...</td>\n",
       "      <td>...</td>\n",
       "    </tr>\n",
       "    <tr>\n",
       "      <th>2068367</th>\n",
       "      <td>63215</td>\n",
       "      <td>2017</td>\n",
       "      <td>9</td>\n",
       "      <td>Culver City</td>\n",
       "      <td>CA</td>\n",
       "      <td>YV1A22MK9H1013237</td>\n",
       "      <td>Volvo</td>\n",
       "      <td>S90T6</td>\n",
       "    </tr>\n",
       "    <tr>\n",
       "      <th>2068368</th>\n",
       "      <td>72260</td>\n",
       "      <td>2017</td>\n",
       "      <td>3201</td>\n",
       "      <td>Englewood</td>\n",
       "      <td>NJ</td>\n",
       "      <td>YV4A22PL3H1186162</td>\n",
       "      <td>Volvo</td>\n",
       "      <td>XC90T6</td>\n",
       "    </tr>\n",
       "    <tr>\n",
       "      <th>2068369</th>\n",
       "      <td>55999</td>\n",
       "      <td>2016</td>\n",
       "      <td>28941</td>\n",
       "      <td>Fort Collins</td>\n",
       "      <td>CO</td>\n",
       "      <td>YV4A22PL4G1000868</td>\n",
       "      <td>Volvo</td>\n",
       "      <td>XC90AWD</td>\n",
       "    </tr>\n",
       "    <tr>\n",
       "      <th>2068370</th>\n",
       "      <td>60240</td>\n",
       "      <td>2017</td>\n",
       "      <td>3005</td>\n",
       "      <td>San Leandro</td>\n",
       "      <td>CA</td>\n",
       "      <td>YV4A22NLXH1006162</td>\n",
       "      <td>Volvo</td>\n",
       "      <td>V90</td>\n",
       "    </tr>\n",
       "    <tr>\n",
       "      <th>2068371</th>\n",
       "      <td>76995</td>\n",
       "      <td>2017</td>\n",
       "      <td>2502</td>\n",
       "      <td>New York</td>\n",
       "      <td>NY</td>\n",
       "      <td>YV4BC0ZX1H1109845</td>\n",
       "      <td>Volvo</td>\n",
       "      <td>XC90T8</td>\n",
       "    </tr>\n",
       "  </tbody>\n",
       "</table>\n",
       "<p>2068372 rows × 8 columns</p>\n",
       "</div>"
      ],
      "text/plain": [
       "         Price  Year  Mileage            City State                Vin   Make  \\\n",
       "0        16472  2015    18681  Jefferson City    MO  KL4CJBSBXFB267643  Buick   \n",
       "1        15749  2015    27592        Highland    IN  KL4CJASB5FB245057  Buick   \n",
       "2        16998  2015    13650           Boone    NC  KL4CJCSB0FB264921  Buick   \n",
       "3        15777  2015    25195     New Orleans    LA  KL4CJASB4FB217542  Buick   \n",
       "4        16784  2015    22800       Las Vegas    NV  KL4CJBSB3FB166881  Buick   \n",
       "...        ...   ...      ...             ...   ...                ...    ...   \n",
       "2068367  63215  2017        9     Culver City    CA  YV1A22MK9H1013237  Volvo   \n",
       "2068368  72260  2017     3201       Englewood    NJ  YV4A22PL3H1186162  Volvo   \n",
       "2068369  55999  2016    28941    Fort Collins    CO  YV4A22PL4G1000868  Volvo   \n",
       "2068370  60240  2017     3005     San Leandro    CA  YV4A22NLXH1006162  Volvo   \n",
       "2068371  76995  2017     2502        New York    NY  YV4BC0ZX1H1109845  Volvo   \n",
       "\n",
       "                     Model  \n",
       "0        EncoreConvenience  \n",
       "1                EncoreFWD  \n",
       "2            EncoreLeather  \n",
       "3                EncoreFWD  \n",
       "4        EncoreConvenience  \n",
       "...                    ...  \n",
       "2068367              S90T6  \n",
       "2068368             XC90T6  \n",
       "2068369            XC90AWD  \n",
       "2068370                V90  \n",
       "2068371             XC90T8  \n",
       "\n",
       "[2068372 rows x 8 columns]"
      ]
     },
     "execution_count": 111,
     "metadata": {},
     "output_type": "execute_result"
    }
   ],
   "source": [
    "df"
   ]
  },
  {
   "cell_type": "markdown",
   "id": "b5a6f744",
   "metadata": {},
   "source": [
    "### Step 2 : Checking for Null values."
   ]
  },
  {
   "cell_type": "code",
   "execution_count": 112,
   "id": "a1721a27",
   "metadata": {},
   "outputs": [
    {
     "data": {
      "text/plain": [
       "Price      0\n",
       "Year       0\n",
       "Mileage    0\n",
       "City       0\n",
       "State      0\n",
       "Vin        0\n",
       "Make       0\n",
       "Model      0\n",
       "dtype: int64"
      ]
     },
     "execution_count": 112,
     "metadata": {},
     "output_type": "execute_result"
    }
   ],
   "source": [
    "df.isnull().sum()"
   ]
  },
  {
   "cell_type": "markdown",
   "id": "25f6fa16",
   "metadata": {},
   "source": [
    "There are no null values present in the dataset. The data is clean."
   ]
  },
  {
   "cell_type": "markdown",
   "id": "bb838727",
   "metadata": {},
   "source": [
    "### Step 3 : Checking for Duplicate values"
   ]
  },
  {
   "cell_type": "code",
   "execution_count": 113,
   "id": "3a735edf",
   "metadata": {},
   "outputs": [
    {
     "data": {
      "text/plain": [
       "539156"
      ]
     },
     "execution_count": 113,
     "metadata": {},
     "output_type": "execute_result"
    }
   ],
   "source": [
    "#Number of duplicates\n",
    "df.duplicated().sum()"
   ]
  },
  {
   "cell_type": "code",
   "execution_count": 114,
   "id": "f6e7c1fc",
   "metadata": {},
   "outputs": [],
   "source": [
    "#Lets drop the duplicates\n",
    "\n",
    "df.drop_duplicates(inplace=True)"
   ]
  },
  {
   "cell_type": "code",
   "execution_count": 119,
   "id": "e5a28eba",
   "metadata": {},
   "outputs": [
    {
     "data": {
      "image/png": "[encoded data removed]",
      "text/plain": [
       "<Figure size 720x432 with 1 Axes>"
      ]
     },
     "metadata": {
      "needs_background": "light"
     },
     "output_type": "display_data"
    }
   ],
   "source": [
    "plt.figure(figsize=(10,6))\n",
    "\n",
    "plt.title('Car Price Spread')\n",
    "sns.boxplot(x=df.Price)\n",
    "\n",
    "plt.show()"
   ]
  },
  {
   "cell_type": "code",
   "execution_count": 118,
   "id": "409a4d66",
   "metadata": {},
   "outputs": [
    {
     "data": {
      "image/png": "[encoded data removed]",
      "text/plain": [
       "<Figure size 720x432 with 1 Axes>"
      ]
     },
     "metadata": {
      "needs_background": "light"
     },
     "output_type": "display_data"
    }
   ],
   "source": [
    "plt.figure(figsize=(10,6))\n",
    "\n",
    "plt.title('Car Price Spread')\n",
    "sns.distplot(df.Price, bins =10)\n",
    "\n",
    "plt.show()"
   ]
  },
  {
   "cell_type": "markdown",
   "id": "60523bf0",
   "metadata": {},
   "source": [
    "## Step 4 : Handling the outliers"
   ]
  },
  {
   "cell_type": "code",
   "execution_count": 120,
   "id": "51358422",
   "metadata": {},
   "outputs": [
    {
     "data": {
      "text/plain": [
       "count    1.529216e+06\n",
       "mean     2.132126e+04\n",
       "std      1.325448e+04\n",
       "min      1.500000e+03\n",
       "25%      1.315000e+04\n",
       "50%      1.841900e+04\n",
       "75%      2.697800e+04\n",
       "max      4.995000e+05\n",
       "Name: Price, dtype: float64"
      ]
     },
     "execution_count": 120,
     "metadata": {},
     "output_type": "execute_result"
    }
   ],
   "source": [
    "df['Price'].describe()"
   ]
  },
  {
   "cell_type": "code",
   "execution_count": 121,
   "id": "caa57fb1",
   "metadata": {},
   "outputs": [
    {
     "data": {
      "text/plain": [
       "13150.0"
      ]
     },
     "execution_count": 121,
     "metadata": {},
     "output_type": "execute_result"
    }
   ],
   "source": [
    "df['Price'].quantile(0.25)"
   ]
  },
  {
   "cell_type": "code",
   "execution_count": 122,
   "id": "f3dc42cb",
   "metadata": {},
   "outputs": [
    {
     "data": {
      "text/plain": [
       "26978.0"
      ]
     },
     "execution_count": 122,
     "metadata": {},
     "output_type": "execute_result"
    }
   ],
   "source": [
    "df['Price'].quantile(0.75)"
   ]
  },
  {
   "cell_type": "code",
   "execution_count": 123,
   "id": "d0c4b3ca",
   "metadata": {},
   "outputs": [],
   "source": [
    "Q1 = df['Price'].quantile(0.25)\n",
    "Q3 = df['Price'].quantile(0.75)\n",
    "IQR = Q3 - Q1"
   ]
  },
  {
   "cell_type": "code",
   "execution_count": 124,
   "id": "ba48dd53",
   "metadata": {},
   "outputs": [
    {
     "data": {
      "text/plain": [
       "13828.0"
      ]
     },
     "execution_count": 124,
     "metadata": {},
     "output_type": "execute_result"
    }
   ],
   "source": [
    "IQR"
   ]
  },
  {
   "cell_type": "code",
   "execution_count": 125,
   "id": "d97064d9",
   "metadata": {},
   "outputs": [],
   "source": [
    "lower_lim = Q1 - 1.5 * IQR\n",
    "upper_lim = Q3 + 1.5 * IQR"
   ]
  },
  {
   "cell_type": "code",
   "execution_count": 126,
   "id": "d824c9d9",
   "metadata": {},
   "outputs": [
    {
     "data": {
      "text/plain": [
       "-7592.0"
      ]
     },
     "execution_count": 126,
     "metadata": {},
     "output_type": "execute_result"
    }
   ],
   "source": [
    "lower_lim"
   ]
  },
  {
   "cell_type": "code",
   "execution_count": 127,
   "id": "43d8ec91",
   "metadata": {},
   "outputs": [
    {
     "data": {
      "text/plain": [
       "47720.0"
      ]
     },
     "execution_count": 127,
     "metadata": {},
     "output_type": "execute_result"
    }
   ],
   "source": [
    "upper_lim"
   ]
  },
  {
   "cell_type": "code",
   "execution_count": 128,
   "id": "885a05be",
   "metadata": {},
   "outputs": [],
   "source": [
    "outlier_low = df['Price'] < lower_lim"
   ]
  },
  {
   "cell_type": "code",
   "execution_count": 129,
   "id": "d78430b4",
   "metadata": {},
   "outputs": [],
   "source": [
    "outlier_high = df['Price'] > upper_lim"
   ]
  },
  {
   "cell_type": "code",
   "execution_count": 130,
   "id": "aa0804ae",
   "metadata": {},
   "outputs": [
    {
     "data": {
      "text/plain": [
       "1579767"
      ]
     },
     "execution_count": 130,
     "metadata": {},
     "output_type": "execute_result"
    }
   ],
   "source": [
    "len(df['Price']) - len(df['Price'][outlier_low]) + len(df['Price'][outlier_high])"
   ]
  },
  {
   "cell_type": "code",
   "execution_count": 131,
   "id": "42b2fada",
   "metadata": {},
   "outputs": [
    {
     "data": {
      "text/plain": [
       "582         47835\n",
       "583        111500\n",
       "669         59497\n",
       "671         47999\n",
       "672         53993\n",
       "            ...  \n",
       "2068364     53855\n",
       "2068366     54995\n",
       "2068367     63215\n",
       "2068370     60240\n",
       "2068371     76995\n",
       "Name: Price, Length: 50551, dtype: int64"
      ]
     },
     "execution_count": 131,
     "metadata": {},
     "output_type": "execute_result"
    }
   ],
   "source": [
    "df['Price'][(outlier_low | outlier_high)]"
   ]
  },
  {
   "cell_type": "code",
   "execution_count": 132,
   "id": "103cc75f",
   "metadata": {},
   "outputs": [
    {
     "data": {
      "text/plain": [
       "0          16472\n",
       "1          15749\n",
       "2          16998\n",
       "3          15777\n",
       "4          16784\n",
       "           ...  \n",
       "2068302    35900\n",
       "2068320    30995\n",
       "2068358    45280\n",
       "2068361    46500\n",
       "2068362    46530\n",
       "Name: Price, Length: 1478665, dtype: int64"
      ]
     },
     "execution_count": 132,
     "metadata": {},
     "output_type": "execute_result"
    }
   ],
   "source": [
    "df['Price'][~ (outlier_low | outlier_high)]"
   ]
  },
  {
   "cell_type": "code",
   "execution_count": 133,
   "id": "cffc23f3",
   "metadata": {},
   "outputs": [
    {
     "data": {
      "text/html": [
       "<div>\n",
       "<style scoped>\n",
       "    .dataframe tbody tr th:only-of-type {\n",
       "        vertical-align: middle;\n",
       "    }\n",
       "\n",
       "    .dataframe tbody tr th {\n",
       "        vertical-align: top;\n",
       "    }\n",
       "\n",
       "    .dataframe thead th {\n",
       "        text-align: right;\n",
       "    }\n",
       "</style>\n",
       "<table border=\"1\" class=\"dataframe\">\n",
       "  <thead>\n",
       "    <tr style=\"text-align: right;\">\n",
       "      <th></th>\n",
       "      <th>Price</th>\n",
       "      <th>Year</th>\n",
       "      <th>Mileage</th>\n",
       "      <th>City</th>\n",
       "      <th>State</th>\n",
       "      <th>Vin</th>\n",
       "      <th>Make</th>\n",
       "      <th>Model</th>\n",
       "    </tr>\n",
       "  </thead>\n",
       "  <tbody>\n",
       "    <tr>\n",
       "      <th>0</th>\n",
       "      <td>16472</td>\n",
       "      <td>2015</td>\n",
       "      <td>18681</td>\n",
       "      <td>Jefferson City</td>\n",
       "      <td>MO</td>\n",
       "      <td>KL4CJBSBXFB267643</td>\n",
       "      <td>Buick</td>\n",
       "      <td>EncoreConvenience</td>\n",
       "    </tr>\n",
       "    <tr>\n",
       "      <th>1</th>\n",
       "      <td>15749</td>\n",
       "      <td>2015</td>\n",
       "      <td>27592</td>\n",
       "      <td>Highland</td>\n",
       "      <td>IN</td>\n",
       "      <td>KL4CJASB5FB245057</td>\n",
       "      <td>Buick</td>\n",
       "      <td>EncoreFWD</td>\n",
       "    </tr>\n",
       "    <tr>\n",
       "      <th>2</th>\n",
       "      <td>16998</td>\n",
       "      <td>2015</td>\n",
       "      <td>13650</td>\n",
       "      <td>Boone</td>\n",
       "      <td>NC</td>\n",
       "      <td>KL4CJCSB0FB264921</td>\n",
       "      <td>Buick</td>\n",
       "      <td>EncoreLeather</td>\n",
       "    </tr>\n",
       "    <tr>\n",
       "      <th>3</th>\n",
       "      <td>15777</td>\n",
       "      <td>2015</td>\n",
       "      <td>25195</td>\n",
       "      <td>New Orleans</td>\n",
       "      <td>LA</td>\n",
       "      <td>KL4CJASB4FB217542</td>\n",
       "      <td>Buick</td>\n",
       "      <td>EncoreFWD</td>\n",
       "    </tr>\n",
       "    <tr>\n",
       "      <th>4</th>\n",
       "      <td>16784</td>\n",
       "      <td>2015</td>\n",
       "      <td>22800</td>\n",
       "      <td>Las Vegas</td>\n",
       "      <td>NV</td>\n",
       "      <td>KL4CJBSB3FB166881</td>\n",
       "      <td>Buick</td>\n",
       "      <td>EncoreConvenience</td>\n",
       "    </tr>\n",
       "    <tr>\n",
       "      <th>...</th>\n",
       "      <td>...</td>\n",
       "      <td>...</td>\n",
       "      <td>...</td>\n",
       "      <td>...</td>\n",
       "      <td>...</td>\n",
       "      <td>...</td>\n",
       "      <td>...</td>\n",
       "      <td>...</td>\n",
       "    </tr>\n",
       "    <tr>\n",
       "      <th>2068364</th>\n",
       "      <td>53855</td>\n",
       "      <td>2017</td>\n",
       "      <td>7530</td>\n",
       "      <td>Marietta</td>\n",
       "      <td>GA</td>\n",
       "      <td>YV1A22MK3H1004002</td>\n",
       "      <td>Volvo</td>\n",
       "      <td>S90T6</td>\n",
       "    </tr>\n",
       "    <tr>\n",
       "      <th>2068366</th>\n",
       "      <td>54995</td>\n",
       "      <td>2017</td>\n",
       "      <td>2474</td>\n",
       "      <td>Berwyn</td>\n",
       "      <td>PA</td>\n",
       "      <td>YV1A22MK1H1010445</td>\n",
       "      <td>Volvo</td>\n",
       "      <td>S90T6</td>\n",
       "    </tr>\n",
       "    <tr>\n",
       "      <th>2068367</th>\n",
       "      <td>63215</td>\n",
       "      <td>2017</td>\n",
       "      <td>9</td>\n",
       "      <td>Culver City</td>\n",
       "      <td>CA</td>\n",
       "      <td>YV1A22MK9H1013237</td>\n",
       "      <td>Volvo</td>\n",
       "      <td>S90T6</td>\n",
       "    </tr>\n",
       "    <tr>\n",
       "      <th>2068370</th>\n",
       "      <td>60240</td>\n",
       "      <td>2017</td>\n",
       "      <td>3005</td>\n",
       "      <td>San Leandro</td>\n",
       "      <td>CA</td>\n",
       "      <td>YV4A22NLXH1006162</td>\n",
       "      <td>Volvo</td>\n",
       "      <td>V90</td>\n",
       "    </tr>\n",
       "    <tr>\n",
       "      <th>2068371</th>\n",
       "      <td>76995</td>\n",
       "      <td>2017</td>\n",
       "      <td>2502</td>\n",
       "      <td>New York</td>\n",
       "      <td>NY</td>\n",
       "      <td>YV4BC0ZX1H1109845</td>\n",
       "      <td>Volvo</td>\n",
       "      <td>XC90T8</td>\n",
       "    </tr>\n",
       "  </tbody>\n",
       "</table>\n",
       "<p>1529216 rows × 8 columns</p>\n",
       "</div>"
      ],
      "text/plain": [
       "         Price  Year  Mileage            City State                Vin   Make  \\\n",
       "0        16472  2015    18681  Jefferson City    MO  KL4CJBSBXFB267643  Buick   \n",
       "1        15749  2015    27592        Highland    IN  KL4CJASB5FB245057  Buick   \n",
       "2        16998  2015    13650           Boone    NC  KL4CJCSB0FB264921  Buick   \n",
       "3        15777  2015    25195     New Orleans    LA  KL4CJASB4FB217542  Buick   \n",
       "4        16784  2015    22800       Las Vegas    NV  KL4CJBSB3FB166881  Buick   \n",
       "...        ...   ...      ...             ...   ...                ...    ...   \n",
       "2068364  53855  2017     7530        Marietta    GA  YV1A22MK3H1004002  Volvo   \n",
       "2068366  54995  2017     2474          Berwyn    PA  YV1A22MK1H1010445  Volvo   \n",
       "2068367  63215  2017        9     Culver City    CA  YV1A22MK9H1013237  Volvo   \n",
       "2068370  60240  2017     3005     San Leandro    CA  YV4A22NLXH1006162  Volvo   \n",
       "2068371  76995  2017     2502        New York    NY  YV4BC0ZX1H1109845  Volvo   \n",
       "\n",
       "                     Model  \n",
       "0        EncoreConvenience  \n",
       "1                EncoreFWD  \n",
       "2            EncoreLeather  \n",
       "3                EncoreFWD  \n",
       "4        EncoreConvenience  \n",
       "...                    ...  \n",
       "2068364              S90T6  \n",
       "2068366              S90T6  \n",
       "2068367              S90T6  \n",
       "2068370                V90  \n",
       "2068371             XC90T8  \n",
       "\n",
       "[1529216 rows x 8 columns]"
      ]
     },
     "execution_count": 133,
     "metadata": {},
     "output_type": "execute_result"
    }
   ],
   "source": [
    "df"
   ]
  },
  {
   "cell_type": "code",
   "execution_count": 134,
   "id": "32225f9f",
   "metadata": {},
   "outputs": [],
   "source": [
    "df = df[~ (outlier_low | outlier_high)]"
   ]
  },
  {
   "cell_type": "code",
   "execution_count": 135,
   "id": "8d97deeb",
   "metadata": {},
   "outputs": [
    {
     "data": {
      "text/html": [
       "<div>\n",
       "<style scoped>\n",
       "    .dataframe tbody tr th:only-of-type {\n",
       "        vertical-align: middle;\n",
       "    }\n",
       "\n",
       "    .dataframe tbody tr th {\n",
       "        vertical-align: top;\n",
       "    }\n",
       "\n",
       "    .dataframe thead th {\n",
       "        text-align: right;\n",
       "    }\n",
       "</style>\n",
       "<table border=\"1\" class=\"dataframe\">\n",
       "  <thead>\n",
       "    <tr style=\"text-align: right;\">\n",
       "      <th></th>\n",
       "      <th>Price</th>\n",
       "      <th>Year</th>\n",
       "      <th>Mileage</th>\n",
       "      <th>City</th>\n",
       "      <th>State</th>\n",
       "      <th>Vin</th>\n",
       "      <th>Make</th>\n",
       "      <th>Model</th>\n",
       "    </tr>\n",
       "  </thead>\n",
       "  <tbody>\n",
       "    <tr>\n",
       "      <th>0</th>\n",
       "      <td>16472</td>\n",
       "      <td>2015</td>\n",
       "      <td>18681</td>\n",
       "      <td>Jefferson City</td>\n",
       "      <td>MO</td>\n",
       "      <td>KL4CJBSBXFB267643</td>\n",
       "      <td>Buick</td>\n",
       "      <td>EncoreConvenience</td>\n",
       "    </tr>\n",
       "    <tr>\n",
       "      <th>1</th>\n",
       "      <td>15749</td>\n",
       "      <td>2015</td>\n",
       "      <td>27592</td>\n",
       "      <td>Highland</td>\n",
       "      <td>IN</td>\n",
       "      <td>KL4CJASB5FB245057</td>\n",
       "      <td>Buick</td>\n",
       "      <td>EncoreFWD</td>\n",
       "    </tr>\n",
       "    <tr>\n",
       "      <th>2</th>\n",
       "      <td>16998</td>\n",
       "      <td>2015</td>\n",
       "      <td>13650</td>\n",
       "      <td>Boone</td>\n",
       "      <td>NC</td>\n",
       "      <td>KL4CJCSB0FB264921</td>\n",
       "      <td>Buick</td>\n",
       "      <td>EncoreLeather</td>\n",
       "    </tr>\n",
       "    <tr>\n",
       "      <th>3</th>\n",
       "      <td>15777</td>\n",
       "      <td>2015</td>\n",
       "      <td>25195</td>\n",
       "      <td>New Orleans</td>\n",
       "      <td>LA</td>\n",
       "      <td>KL4CJASB4FB217542</td>\n",
       "      <td>Buick</td>\n",
       "      <td>EncoreFWD</td>\n",
       "    </tr>\n",
       "    <tr>\n",
       "      <th>4</th>\n",
       "      <td>16784</td>\n",
       "      <td>2015</td>\n",
       "      <td>22800</td>\n",
       "      <td>Las Vegas</td>\n",
       "      <td>NV</td>\n",
       "      <td>KL4CJBSB3FB166881</td>\n",
       "      <td>Buick</td>\n",
       "      <td>EncoreConvenience</td>\n",
       "    </tr>\n",
       "    <tr>\n",
       "      <th>...</th>\n",
       "      <td>...</td>\n",
       "      <td>...</td>\n",
       "      <td>...</td>\n",
       "      <td>...</td>\n",
       "      <td>...</td>\n",
       "      <td>...</td>\n",
       "      <td>...</td>\n",
       "      <td>...</td>\n",
       "    </tr>\n",
       "    <tr>\n",
       "      <th>2068302</th>\n",
       "      <td>35900</td>\n",
       "      <td>2015</td>\n",
       "      <td>26956</td>\n",
       "      <td>East Petersburg</td>\n",
       "      <td>PA</td>\n",
       "      <td>YV4902RB2F2621371</td>\n",
       "      <td>Volvo</td>\n",
       "      <td>XC60T6</td>\n",
       "    </tr>\n",
       "    <tr>\n",
       "      <th>2068320</th>\n",
       "      <td>30995</td>\n",
       "      <td>2014</td>\n",
       "      <td>392123</td>\n",
       "      <td>Berwyn</td>\n",
       "      <td>PA</td>\n",
       "      <td>YV4902DZ8E2543908</td>\n",
       "      <td>Volvo</td>\n",
       "      <td>XC60T6</td>\n",
       "    </tr>\n",
       "    <tr>\n",
       "      <th>2068358</th>\n",
       "      <td>45280</td>\n",
       "      <td>2017</td>\n",
       "      <td>8</td>\n",
       "      <td>San Leandro</td>\n",
       "      <td>CA</td>\n",
       "      <td>YV140MEK1H1370375</td>\n",
       "      <td>Volvo</td>\n",
       "      <td>V60T5</td>\n",
       "    </tr>\n",
       "    <tr>\n",
       "      <th>2068361</th>\n",
       "      <td>46500</td>\n",
       "      <td>2017</td>\n",
       "      <td>8</td>\n",
       "      <td>San Leandro</td>\n",
       "      <td>CA</td>\n",
       "      <td>YV140MEM3H1370217</td>\n",
       "      <td>Volvo</td>\n",
       "      <td>V60T5</td>\n",
       "    </tr>\n",
       "    <tr>\n",
       "      <th>2068362</th>\n",
       "      <td>46530</td>\n",
       "      <td>2017</td>\n",
       "      <td>10</td>\n",
       "      <td>San Leandro</td>\n",
       "      <td>CA</td>\n",
       "      <td>YV140MEK7H1364709</td>\n",
       "      <td>Volvo</td>\n",
       "      <td>V60T5</td>\n",
       "    </tr>\n",
       "  </tbody>\n",
       "</table>\n",
       "<p>1478665 rows × 8 columns</p>\n",
       "</div>"
      ],
      "text/plain": [
       "         Price  Year  Mileage             City State                Vin  \\\n",
       "0        16472  2015    18681   Jefferson City    MO  KL4CJBSBXFB267643   \n",
       "1        15749  2015    27592         Highland    IN  KL4CJASB5FB245057   \n",
       "2        16998  2015    13650            Boone    NC  KL4CJCSB0FB264921   \n",
       "3        15777  2015    25195      New Orleans    LA  KL4CJASB4FB217542   \n",
       "4        16784  2015    22800        Las Vegas    NV  KL4CJBSB3FB166881   \n",
       "...        ...   ...      ...              ...   ...                ...   \n",
       "2068302  35900  2015    26956  East Petersburg    PA  YV4902RB2F2621371   \n",
       "2068320  30995  2014   392123           Berwyn    PA  YV4902DZ8E2543908   \n",
       "2068358  45280  2017        8      San Leandro    CA  YV140MEK1H1370375   \n",
       "2068361  46500  2017        8      San Leandro    CA  YV140MEM3H1370217   \n",
       "2068362  46530  2017       10      San Leandro    CA  YV140MEK7H1364709   \n",
       "\n",
       "          Make              Model  \n",
       "0        Buick  EncoreConvenience  \n",
       "1        Buick          EncoreFWD  \n",
       "2        Buick      EncoreLeather  \n",
       "3        Buick          EncoreFWD  \n",
       "4        Buick  EncoreConvenience  \n",
       "...        ...                ...  \n",
       "2068302  Volvo             XC60T6  \n",
       "2068320  Volvo             XC60T6  \n",
       "2068358  Volvo              V60T5  \n",
       "2068361  Volvo              V60T5  \n",
       "2068362  Volvo              V60T5  \n",
       "\n",
       "[1478665 rows x 8 columns]"
      ]
     },
     "execution_count": 135,
     "metadata": {},
     "output_type": "execute_result"
    }
   ],
   "source": [
    "df"
   ]
  },
  {
   "cell_type": "code",
   "execution_count": 137,
   "id": "26f19097",
   "metadata": {},
   "outputs": [
    {
     "data": {
      "image/png": "[encoded data removed]",
      "text/plain": [
       "<Figure size 1440x576 with 1 Axes>"
      ]
     },
     "metadata": {
      "needs_background": "light"
     },
     "output_type": "display_data"
    }
   ],
   "source": [
    "plt.figure(figsize=(20,8))\n",
    "\n",
    "plt.title('Car Price Spread')\n",
    "sns.boxplot(x=df.Price)\n",
    "\n",
    "plt.show()"
   ]
  },
  {
   "cell_type": "code",
   "execution_count": 138,
   "id": "145aae3a",
   "metadata": {},
   "outputs": [
    {
     "data": {
      "image/png": "[encoded data removed]",
      "text/plain": [
       "<Figure size 1440x576 with 1 Axes>"
      ]
     },
     "metadata": {
      "needs_background": "light"
     },
     "output_type": "display_data"
    }
   ],
   "source": [
    "plt.figure(figsize=(20,8))\n",
    "\n",
    "plt.title('Car Price Spread')\n",
    "sns.distplot(df.Price, bins =10)\n",
    "\n",
    "plt.show()"
   ]
  },
  {
   "cell_type": "markdown",
   "id": "c4d7921e",
   "metadata": {},
   "source": [
    "Now after handling the outliers present.Lets visualize"
   ]
  },
  {
   "cell_type": "code",
   "execution_count": 139,
   "id": "d82bbdea",
   "metadata": {},
   "outputs": [],
   "source": [
    "df_new = pd.DataFrame(df.groupby(['Make'])['Price'].mean().sort_values(ascending = False))"
   ]
  },
  {
   "cell_type": "code",
   "execution_count": 140,
   "id": "24974661",
   "metadata": {},
   "outputs": [],
   "source": [
    "df_new =  df_new.reset_index().rename(columns = {'Make' : 'Company Name','Price' : 'Average Price'})"
   ]
  },
  {
   "cell_type": "code",
   "execution_count": 141,
   "id": "5a945a23",
   "metadata": {},
   "outputs": [
    {
     "data": {
      "text/html": [
       "<div>\n",
       "<style scoped>\n",
       "    .dataframe tbody tr th:only-of-type {\n",
       "        vertical-align: middle;\n",
       "    }\n",
       "\n",
       "    .dataframe tbody tr th {\n",
       "        vertical-align: top;\n",
       "    }\n",
       "\n",
       "    .dataframe thead th {\n",
       "        text-align: right;\n",
       "    }\n",
       "</style>\n",
       "<table border=\"1\" class=\"dataframe\">\n",
       "  <thead>\n",
       "    <tr style=\"text-align: right;\">\n",
       "      <th></th>\n",
       "      <th>Company Name</th>\n",
       "      <th>Average Price</th>\n",
       "    </tr>\n",
       "  </thead>\n",
       "  <tbody>\n",
       "    <tr>\n",
       "      <th>0</th>\n",
       "      <td>AM</td>\n",
       "      <td>43863.333333</td>\n",
       "    </tr>\n",
       "    <tr>\n",
       "      <th>1</th>\n",
       "      <td>Tesla</td>\n",
       "      <td>43736.077778</td>\n",
       "    </tr>\n",
       "    <tr>\n",
       "      <th>2</th>\n",
       "      <td>Aston</td>\n",
       "      <td>43412.900000</td>\n",
       "    </tr>\n",
       "    <tr>\n",
       "      <th>3</th>\n",
       "      <td>Fisker</td>\n",
       "      <td>42443.529412</td>\n",
       "    </tr>\n",
       "    <tr>\n",
       "      <th>4</th>\n",
       "      <td>Bentley</td>\n",
       "      <td>42146.065217</td>\n",
       "    </tr>\n",
       "    <tr>\n",
       "      <th>5</th>\n",
       "      <td>Alfa</td>\n",
       "      <td>41157.500000</td>\n",
       "    </tr>\n",
       "    <tr>\n",
       "      <th>6</th>\n",
       "      <td>Genesis</td>\n",
       "      <td>40422.189427</td>\n",
       "    </tr>\n",
       "    <tr>\n",
       "      <th>7</th>\n",
       "      <td>Lotus</td>\n",
       "      <td>39168.076923</td>\n",
       "    </tr>\n",
       "    <tr>\n",
       "      <th>8</th>\n",
       "      <td>Maserati</td>\n",
       "      <td>38896.017822</td>\n",
       "    </tr>\n",
       "    <tr>\n",
       "      <th>9</th>\n",
       "      <td>Porsche</td>\n",
       "      <td>30315.851360</td>\n",
       "    </tr>\n",
       "    <tr>\n",
       "      <th>10</th>\n",
       "      <td>Ram</td>\n",
       "      <td>29480.893671</td>\n",
       "    </tr>\n",
       "    <tr>\n",
       "      <th>11</th>\n",
       "      <td>Freightliner</td>\n",
       "      <td>28639.176471</td>\n",
       "    </tr>\n",
       "    <tr>\n",
       "      <th>12</th>\n",
       "      <td>Land</td>\n",
       "      <td>27969.053484</td>\n",
       "    </tr>\n",
       "    <tr>\n",
       "      <th>13</th>\n",
       "      <td>Jaguar</td>\n",
       "      <td>27509.029807</td>\n",
       "    </tr>\n",
       "    <tr>\n",
       "      <th>14</th>\n",
       "      <td>Mercedes-Benz</td>\n",
       "      <td>26256.270398</td>\n",
       "    </tr>\n",
       "    <tr>\n",
       "      <th>15</th>\n",
       "      <td>GMC</td>\n",
       "      <td>26079.952144</td>\n",
       "    </tr>\n",
       "    <tr>\n",
       "      <th>16</th>\n",
       "      <td>Audi</td>\n",
       "      <td>25946.338693</td>\n",
       "    </tr>\n",
       "    <tr>\n",
       "      <th>17</th>\n",
       "      <td>BMW</td>\n",
       "      <td>25621.239001</td>\n",
       "    </tr>\n",
       "    <tr>\n",
       "      <th>18</th>\n",
       "      <td>Lexus</td>\n",
       "      <td>25350.881755</td>\n",
       "    </tr>\n",
       "    <tr>\n",
       "      <th>19</th>\n",
       "      <td>INFINITI</td>\n",
       "      <td>24608.198546</td>\n",
       "    </tr>\n",
       "    <tr>\n",
       "      <th>20</th>\n",
       "      <td>Cadillac</td>\n",
       "      <td>24129.472180</td>\n",
       "    </tr>\n",
       "    <tr>\n",
       "      <th>21</th>\n",
       "      <td>Acura</td>\n",
       "      <td>22649.210782</td>\n",
       "    </tr>\n",
       "    <tr>\n",
       "      <th>22</th>\n",
       "      <td>Volvo</td>\n",
       "      <td>22527.778473</td>\n",
       "    </tr>\n",
       "    <tr>\n",
       "      <th>23</th>\n",
       "      <td>Lincoln</td>\n",
       "      <td>22522.546725</td>\n",
       "    </tr>\n",
       "    <tr>\n",
       "      <th>24</th>\n",
       "      <td>Jeep</td>\n",
       "      <td>22353.016413</td>\n",
       "    </tr>\n",
       "    <tr>\n",
       "      <th>25</th>\n",
       "      <td>Plymouth</td>\n",
       "      <td>21175.380952</td>\n",
       "    </tr>\n",
       "    <tr>\n",
       "      <th>26</th>\n",
       "      <td>Ford</td>\n",
       "      <td>20659.299782</td>\n",
       "    </tr>\n",
       "    <tr>\n",
       "      <th>27</th>\n",
       "      <td>Chevrolet</td>\n",
       "      <td>20503.469866</td>\n",
       "    </tr>\n",
       "    <tr>\n",
       "      <th>28</th>\n",
       "      <td>Subaru</td>\n",
       "      <td>19609.366897</td>\n",
       "    </tr>\n",
       "    <tr>\n",
       "      <th>29</th>\n",
       "      <td>Toyota</td>\n",
       "      <td>19503.330317</td>\n",
       "    </tr>\n",
       "    <tr>\n",
       "      <th>30</th>\n",
       "      <td>Buick</td>\n",
       "      <td>19107.926805</td>\n",
       "    </tr>\n",
       "    <tr>\n",
       "      <th>31</th>\n",
       "      <td>HUMMER</td>\n",
       "      <td>18235.442020</td>\n",
       "    </tr>\n",
       "    <tr>\n",
       "      <th>32</th>\n",
       "      <td>Dodge</td>\n",
       "      <td>17973.455618</td>\n",
       "    </tr>\n",
       "    <tr>\n",
       "      <th>33</th>\n",
       "      <td>Honda</td>\n",
       "      <td>16821.541634</td>\n",
       "    </tr>\n",
       "    <tr>\n",
       "      <th>34</th>\n",
       "      <td>Nissan</td>\n",
       "      <td>16688.909604</td>\n",
       "    </tr>\n",
       "    <tr>\n",
       "      <th>35</th>\n",
       "      <td>MINI</td>\n",
       "      <td>16607.397070</td>\n",
       "    </tr>\n",
       "    <tr>\n",
       "      <th>36</th>\n",
       "      <td>Mazda</td>\n",
       "      <td>15931.532236</td>\n",
       "    </tr>\n",
       "    <tr>\n",
       "      <th>37</th>\n",
       "      <td>Chrysler</td>\n",
       "      <td>15901.128421</td>\n",
       "    </tr>\n",
       "    <tr>\n",
       "      <th>38</th>\n",
       "      <td>Kia</td>\n",
       "      <td>15500.632160</td>\n",
       "    </tr>\n",
       "    <tr>\n",
       "      <th>39</th>\n",
       "      <td>Volkswagen</td>\n",
       "      <td>14916.928383</td>\n",
       "    </tr>\n",
       "    <tr>\n",
       "      <th>40</th>\n",
       "      <td>Hyundai</td>\n",
       "      <td>14433.203819</td>\n",
       "    </tr>\n",
       "    <tr>\n",
       "      <th>41</th>\n",
       "      <td>Mitsubishi</td>\n",
       "      <td>13177.299197</td>\n",
       "    </tr>\n",
       "    <tr>\n",
       "      <th>42</th>\n",
       "      <td>Scion</td>\n",
       "      <td>12357.166081</td>\n",
       "    </tr>\n",
       "    <tr>\n",
       "      <th>43</th>\n",
       "      <td>FIAT</td>\n",
       "      <td>12053.129022</td>\n",
       "    </tr>\n",
       "    <tr>\n",
       "      <th>44</th>\n",
       "      <td>smart</td>\n",
       "      <td>8194.447523</td>\n",
       "    </tr>\n",
       "    <tr>\n",
       "      <th>45</th>\n",
       "      <td>Pontiac</td>\n",
       "      <td>7536.277722</td>\n",
       "    </tr>\n",
       "    <tr>\n",
       "      <th>46</th>\n",
       "      <td>Suzuki</td>\n",
       "      <td>6856.767568</td>\n",
       "    </tr>\n",
       "    <tr>\n",
       "      <th>47</th>\n",
       "      <td>Mercury</td>\n",
       "      <td>6855.916892</td>\n",
       "    </tr>\n",
       "    <tr>\n",
       "      <th>48</th>\n",
       "      <td>Saab</td>\n",
       "      <td>6776.683962</td>\n",
       "    </tr>\n",
       "    <tr>\n",
       "      <th>49</th>\n",
       "      <td>Saturn</td>\n",
       "      <td>6145.381215</td>\n",
       "    </tr>\n",
       "    <tr>\n",
       "      <th>50</th>\n",
       "      <td>Geo</td>\n",
       "      <td>4748.250000</td>\n",
       "    </tr>\n",
       "    <tr>\n",
       "      <th>51</th>\n",
       "      <td>Isuzu</td>\n",
       "      <td>4644.823009</td>\n",
       "    </tr>\n",
       "    <tr>\n",
       "      <th>52</th>\n",
       "      <td>Oldsmobile</td>\n",
       "      <td>3661.279793</td>\n",
       "    </tr>\n",
       "  </tbody>\n",
       "</table>\n",
       "</div>"
      ],
      "text/plain": [
       "     Company Name  Average Price\n",
       "0              AM   43863.333333\n",
       "1           Tesla   43736.077778\n",
       "2           Aston   43412.900000\n",
       "3          Fisker   42443.529412\n",
       "4         Bentley   42146.065217\n",
       "5            Alfa   41157.500000\n",
       "6         Genesis   40422.189427\n",
       "7           Lotus   39168.076923\n",
       "8        Maserati   38896.017822\n",
       "9         Porsche   30315.851360\n",
       "10            Ram   29480.893671\n",
       "11   Freightliner   28639.176471\n",
       "12           Land   27969.053484\n",
       "13         Jaguar   27509.029807\n",
       "14  Mercedes-Benz   26256.270398\n",
       "15            GMC   26079.952144\n",
       "16           Audi   25946.338693\n",
       "17            BMW   25621.239001\n",
       "18          Lexus   25350.881755\n",
       "19       INFINITI   24608.198546\n",
       "20       Cadillac   24129.472180\n",
       "21          Acura   22649.210782\n",
       "22          Volvo   22527.778473\n",
       "23        Lincoln   22522.546725\n",
       "24           Jeep   22353.016413\n",
       "25       Plymouth   21175.380952\n",
       "26           Ford   20659.299782\n",
       "27      Chevrolet   20503.469866\n",
       "28         Subaru   19609.366897\n",
       "29         Toyota   19503.330317\n",
       "30          Buick   19107.926805\n",
       "31         HUMMER   18235.442020\n",
       "32          Dodge   17973.455618\n",
       "33          Honda   16821.541634\n",
       "34         Nissan   16688.909604\n",
       "35           MINI   16607.397070\n",
       "36          Mazda   15931.532236\n",
       "37       Chrysler   15901.128421\n",
       "38            Kia   15500.632160\n",
       "39     Volkswagen   14916.928383\n",
       "40        Hyundai   14433.203819\n",
       "41     Mitsubishi   13177.299197\n",
       "42          Scion   12357.166081\n",
       "43           FIAT   12053.129022\n",
       "44          smart    8194.447523\n",
       "45        Pontiac    7536.277722\n",
       "46         Suzuki    6856.767568\n",
       "47        Mercury    6855.916892\n",
       "48           Saab    6776.683962\n",
       "49         Saturn    6145.381215\n",
       "50            Geo    4748.250000\n",
       "51          Isuzu    4644.823009\n",
       "52     Oldsmobile    3661.279793"
      ]
     },
     "execution_count": 141,
     "metadata": {},
     "output_type": "execute_result"
    }
   ],
   "source": [
    "df_new"
   ]
  },
  {
   "cell_type": "markdown",
   "id": "133459a7",
   "metadata": {},
   "source": [
    "## Top 10 Companies Vs Their Average Price"
   ]
  },
  {
   "cell_type": "code",
   "execution_count": 142,
   "id": "1c1ddb95",
   "metadata": {},
   "outputs": [
    {
     "data": {
      "image/png": "[encoded data removed]",
      "text/plain": [
       "<Figure size 1008x432 with 1 Axes>"
      ]
     },
     "metadata": {
      "needs_background": "light"
     },
     "output_type": "display_data"
    }
   ],
   "source": [
    "plt.figure(figsize=(14, 6))\n",
    "\n",
    "ax = sns.barplot(x = df_new['Company Name'][:10],y = df_new['Average Price'],palette = 'gist_earth')\n",
    "plt.title('Top 10 Companies  vs Their Average Price')\n",
    "plt.show()"
   ]
  },
  {
   "cell_type": "code",
   "execution_count": 143,
   "id": "c75b7099",
   "metadata": {},
   "outputs": [],
   "source": [
    "bmw = df[df['Make']=='BMW']"
   ]
  },
  {
   "cell_type": "code",
   "execution_count": 145,
   "id": "0cf67ec5",
   "metadata": {},
   "outputs": [
    {
     "data": {
      "text/plain": [
       "array(['3', 'X1sDrive28i', 'i3Hatchback', '5', 'X3AWD', 'X1xDrive35i',\n",
       "       'X3xDrive28i', 'X5AWD', '7', 'X1xDrive', 'X1xDrive28i', '4',\n",
       "       'X3sDrive28i', 'X4xDrive28i', 'X5xDrive35i', 'X5', 'X5xDrive35d',\n",
       "       '6', '2', 'i394', 'M32dr', 'X3xDrive35i', 'X6xDrive35i',\n",
       "       'X5xDrive50i', 'M34dr', 'M3Coupe', 'X6xDrive50i', 'X6sDrive35i',\n",
       "       'X5sDrive35i', 'X6AWD', 'M5Sedan', 'Z4sDrive28i', 'M4Coupe',\n",
       "       'Z4Roadster', 'Z4sDrive35i', 'M3Convertible', '1', 'Z3Z3',\n",
       "       'X3xDrive28d', 'Z4Z4', 'M6M6', 'X6', 'Z4sDrive35is', 'M3M3',\n",
       "       'Z42dr', 'M54dr', 'Z3Roadster', 'X1Sports', 'M6Convertible',\n",
       "       'M62dr', 'X4xDrive35i', 'Z3Coupe', '8', 'X1AWD', 'X4xDriveM40i',\n",
       "       'Z4Coupe', 'X535i'], dtype=object)"
      ]
     },
     "execution_count": 145,
     "metadata": {},
     "output_type": "execute_result"
    }
   ],
   "source": [
    "bmw.Model.unique()"
   ]
  },
  {
   "cell_type": "code",
   "execution_count": null,
   "id": "75d43520",
   "metadata": {},
   "outputs": [],
   "source": []
  }
 ],
 "metadata": {
  "kernelspec": {
   "display_name": "Python 3",
   "language": "python",
   "name": "python3"
  },
  "language_info": {
   "codemirror_mode": {
    "name": "ipython",
    "version": 3
   },
   "file_extension": ".py",
   "mimetype": "text/x-python",
   "name": "python",
   "nbconvert_exporter": "python",
   "pygments_lexer": "ipython3",
   "version": "3.8.8"
  }
 },
 "nbformat": 4,
 "nbformat_minor": 5
}
